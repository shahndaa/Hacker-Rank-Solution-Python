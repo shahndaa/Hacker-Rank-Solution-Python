{
 "cells": [
  {
   "cell_type": "markdown",
   "id": "1003e7c8",
   "metadata": {},
   "source": [
    "# Find the Runner-Up Score!"
   ]
  },
  {
   "cell_type": "code",
   "execution_count": 24,
   "id": "ad028647",
   "metadata": {},
   "outputs": [
    {
     "name": "stdout",
     "output_type": "stream",
     "text": [
      "5\n"
     ]
    }
   ],
   "source": [
    "n = int(input())\n",
    "\n",
    "arr = map(int, input().split())\n",
    "unique_sorted_arr = sorted(set(arr), reverse=True)\n",
    "\n",
    "if len(unique_sorted_arr) >= 2:\n",
    "    print(unique_sorted_arr[1])"
   ]
  },
  {
   "cell_type": "code",
   "execution_count": 23,
   "id": "08867cb3",
   "metadata": {},
   "outputs": [
    {
     "name": "stdout",
     "output_type": "stream",
     "text": [
      "5\n"
     ]
    }
   ],
   "source": [
    "if __name__ == '__main__':\n",
    "    n = int(input())\n",
    "    arr = map(int, input().split())\n",
    "    score = sorted(list(arr), reverse=True)\n",
    "    maximum = score[0]\n",
    "    new_list = [item for item in score if item != maximum]\n",
    "    secmax= new_list[0]\n",
    "    print(secmax)"
   ]
  },
  {
   "cell_type": "markdown",
   "id": "f6980e47",
   "metadata": {},
   "source": [
    "Use sorted() when you want a new sorted list and want to keep the original list unchanged (or if you're sorting a non-list iterable).\n",
    "\n",
    "Use list.sort() when you want to sort a list in-place and don't need a new list returned."
   ]
  }
 ],
 "metadata": {
  "kernelspec": {
   "display_name": "base",
   "language": "python",
   "name": "python3"
  },
  "language_info": {
   "codemirror_mode": {
    "name": "ipython",
    "version": 3
   },
   "file_extension": ".py",
   "mimetype": "text/x-python",
   "name": "python",
   "nbconvert_exporter": "python",
   "pygments_lexer": "ipython3",
   "version": "3.11.3"
  }
 },
 "nbformat": 4,
 "nbformat_minor": 5
}

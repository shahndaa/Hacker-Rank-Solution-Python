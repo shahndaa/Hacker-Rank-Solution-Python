{
 "cells": [
  {
   "cell_type": "markdown",
   "id": "8caeaf0a",
   "metadata": {},
   "source": [
    "# Write a Function"
   ]
  },
  {
   "cell_type": "code",
   "execution_count": 1,
   "id": "199f6da8",
   "metadata": {},
   "outputs": [
    {
     "name": "stdout",
     "output_type": "stream",
     "text": [
      "True\n"
     ]
    }
   ],
   "source": [
    "def is_leap(year):\n",
    "    leap = False\n",
    "    if year % 100 == 0:\n",
    "        if year % 400 == 0:\n",
    "            leap = True\n",
    "    elif year % 4 == 0:\n",
    "            leap = True\n",
    "    else:\n",
    "        leap\n",
    "    \n",
    "    return leap\n",
    "\n",
    "year = int(input())\n",
    "print(is_leap(year))"
   ]
  }
 ],
 "metadata": {
  "kernelspec": {
   "display_name": "base",
   "language": "python",
   "name": "python3"
  },
  "language_info": {
   "codemirror_mode": {
    "name": "ipython",
    "version": 3
   },
   "file_extension": ".py",
   "mimetype": "text/x-python",
   "name": "python",
   "nbconvert_exporter": "python",
   "pygments_lexer": "ipython3",
   "version": "3.11.3"
  }
 },
 "nbformat": 4,
 "nbformat_minor": 5
}
